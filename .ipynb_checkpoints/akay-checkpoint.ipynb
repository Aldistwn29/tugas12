{
 "cells": [
  {
   "cell_type": "code",
   "execution_count": 13,
   "id": "30156d5b",
   "metadata": {},
   "outputs": [
    {
     "name": "stdout",
     "output_type": "stream",
     "text": [
      "Masukan text: ALDI SetiawaN\n",
      "ALDI SetiawaN\n",
      "Jumlah huruf besar:  6\n"
     ]
    }
   ],
   "source": [
    "import modul\n",
    "\n",
    "text = input(\"Masukan text: \")\n",
    "HurufGede = modul.kapitalCount(text);\n",
    "print(text)\n",
    "print(\"Jumlah huruf besar: \", HurufGede)\n"
   ]
  },
  {
   "cell_type": "code",
   "execution_count": null,
   "id": "99b784ad",
   "metadata": {},
   "outputs": [],
   "source": []
  },
  {
   "cell_type": "code",
   "execution_count": null,
   "id": "92305fb1",
   "metadata": {},
   "outputs": [],
   "source": []
  }
 ],
 "metadata": {
  "kernelspec": {
   "display_name": "Python 3 (ipykernel)",
   "language": "python",
   "name": "python3"
  },
  "language_info": {
   "codemirror_mode": {
    "name": "ipython",
    "version": 3
   },
   "file_extension": ".py",
   "mimetype": "text/x-python",
   "name": "python",
   "nbconvert_exporter": "python",
   "pygments_lexer": "ipython3",
   "version": "3.9.13"
  }
 },
 "nbformat": 4,
 "nbformat_minor": 5
}
