{
 "cells": [
  {
   "cell_type": "code",
   "execution_count": 11,
   "id": "7e45623c",
   "metadata": {},
   "outputs": [
    {
     "name": "stdout",
     "output_type": "stream",
     "text": [
      "Masukan text: A\n",
      "A\n",
      "Jumlah huruf besar:  1\n"
     ]
    }
   ],
   "source": [
    "import modul\n",
    "\n",
    "text = input(\"Masukan text: \")\n",
    "HurufGede = modulkapitalCount(text);\n",
    "print(text)\n",
    "print(\"Jumlah huruf besar: \", HurufGede)\n"
   ]
  },
  {
   "cell_type": "code",
   "execution_count": null,
   "id": "e4630b61",
   "metadata": {},
   "outputs": [],
   "source": []
  }
 ],
 "metadata": {
  "kernelspec": {
   "display_name": "Python 3 (ipykernel)",
   "language": "python",
   "name": "python3"
  },
  "language_info": {
   "codemirror_mode": {
    "name": "ipython",
    "version": 3
   },
   "file_extension": ".py",
   "mimetype": "text/x-python",
   "name": "python",
   "nbconvert_exporter": "python",
   "pygments_lexer": "ipython3",
   "version": "3.9.13"
  }
 },
 "nbformat": 4,
 "nbformat_minor": 5
}
