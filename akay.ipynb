{
 "cells": [
  {
   "cell_type": "code",
   "execution_count": 2,
   "id": "879f9f25",
   "metadata": {},
   "outputs": [
    {
     "name": "stdout",
     "output_type": "stream",
     "text": [
      "AkAY kamu Imut\n",
      "Jumlah huruf besar:  4\n"
     ]
    }
   ],
   "source": [
    "import modul\n",
    "\n",
    "text = input(\"Masukan text: \")\n",
    "HurufGede = modul.kapitalCount(text);\n",
    "print(text)\n",
    "print(\"Jumlah huruf besar: \", HurufGede)\n"
   ]
  },
  {
   "cell_type": "code",
   "execution_count": null,
   "id": "df320ddd",
   "metadata": {},
   "outputs": [],
   "source": []
  }
 ],
 "metadata": {
  "kernelspec": {
   "display_name": "Python 3",
   "language": "python",
   "name": "python3"
  },
  "language_info": {
   "codemirror_mode": {
    "name": "ipython",
    "version": 3
   },
   "file_extension": ".py",
   "mimetype": "text/x-python",
   "name": "python",
   "nbconvert_exporter": "python",
   "pygments_lexer": "ipython3",
   "version": "3.11.0 (main, Oct 24 2022, 18:26:48) [MSC v.1933 64 bit (AMD64)]"
  },
  "vscode": {
   "interpreter": {
    "hash": "b3b28a96ef82f2326210a6cc4e6906f1aca8a02e651e23b32f59fb788bb88dbd"
   }
  }
 },
 "nbformat": 4,
 "nbformat_minor": 5
}
